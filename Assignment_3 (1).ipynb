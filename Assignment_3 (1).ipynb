{
 "cells": [
  {
   "cell_type": "markdown",
   "id": "88cabecd",
   "metadata": {},
   "source": [
    "# 1. What is the concept of an abstract superclass?"
   ]
  },
  {
   "cell_type": "markdown",
   "id": "a26d7ed4",
   "metadata": {},
   "source": [
    "In object-oriented programming, an abstract superclass is a class that is designed to be inherited by other classes, but is not intended to be instantiated on its own. The purpose of an abstract superclass is to define common properties and behavior that are shared by its subclasses, which can then extend or modify this behavior as necessary.\n",
    "\n",
    "\n",
    "An abstract superclass is declared as abstract, meaning that it cannot be instantiated directly. It may contain abstract methods, which are declared but not implemented in the superclass. Subclasses of the abstract superclass are required to provide an implementation for these abstract methods.\n",
    "\n",
    "\n",
    "By defining common behavior in an abstract superclass, you can avoid duplication of code across multiple subclasses, and make it easier to maintain and update your codebase. Additionally, by using an abstract superclass, you can ensure that the code adheres to a certain set of rules or constraints that are defined by the superclass."
   ]
  },
  {
   "cell_type": "markdown",
   "id": "b9cb6fa1",
   "metadata": {},
   "source": [
    "# 2. What happens when a class statement&#39;s top level contains a basic assignment statement?"
   ]
  },
  {
   "cell_type": "markdown",
   "id": "9973c4ed",
   "metadata": {},
   "source": [
    "When a class statement's top level contains a basic assignment statement in Python, the assigned variable becomes a class-level attribute.\n",
    "\n",
    "\n",
    "For example:\n",
    "\n",
    "\n",
    "class MyClass:\n",
    "\n",
    "    x = 5\n",
    "    \n",
    "In this code, the x variable is assigned the value of 5 within the class definition. This means that x is a class-level attribute of MyClass, and can be accessed using dot notation, like this:\n",
    "\n",
    "\n",
    "print(MyClass.x) # Output: 5\n",
    "\n",
    "All instances of the MyClass class will share this same value for the x attribute, unless a subclass overrides it.\n",
    "\n",
    "\n",
    "\n",
    "It's important to note that class-level attributes are shared by all instances of the class, whereas instance-level attributes are unique to each instance of the class. If you want to create an instance-level attribute, you would typically define it within the __init__ method of the class."
   ]
  },
  {
   "cell_type": "markdown",
   "id": "601bc82f",
   "metadata": {},
   "source": [
    "# 3. Why does a class need to manually call a superclass&#39;s __init__ method?"
   ]
  },
  {
   "cell_type": "markdown",
   "id": "d3272186",
   "metadata": {},
   "source": [
    "In Python, when a class is derived from another class, it inherits all of the attributes and methods of the superclass. However, if the superclass has an __init__ method (i.e., a constructor), then the subclass needs to manually call the superclass's __init__ method in order to properly initialize the inherited attributes.\n",
    "\n",
    "\n",
    "\n",
    "This is because the __init__ method is responsible for initializing the object's state and setting up any necessary instance-level attributes. If the subclass does not call the superclass's __init__ method, the superclass's __init__ method will not be executed, and any inherited attributes will not be properly initialized.\n",
    "\n",
    "\n",
    "\n",
    "To call the superclass's __init__ method from within the subclass's __init__ method, you can use the super() function. This function returns a temporary object of the superclass, which you can then use to call the superclass's methods.\n",
    "\n",
    "\n",
    "\n",
    "Here is an example of a subclass calling its superclass's __init__ method using super():"
   ]
  },
  {
   "cell_type": "code",
   "execution_count": 1,
   "id": "dd076a88",
   "metadata": {},
   "outputs": [],
   "source": [
    "class MyBaseClass:\n",
    "    def __init__(self, x, y):\n",
    "        self.x = x\n",
    "        self.y = y\n",
    "\n",
    "class MyDerivedClass(MyBaseClass):\n",
    "    def __init__(self, x, y, z):\n",
    "        super().__init__(x, y)  # call MyBaseClass's __init__ method\n",
    "        self.z = z"
   ]
  },
  {
   "cell_type": "markdown",
   "id": "8c1eb346",
   "metadata": {},
   "source": [
    "    In this example, MyDerivedClass is derived from MyBaseClass, and overrides its __init__ method. In MyDerivedClass's __init__ method, super().__init__(x, y) is used to call MyBaseClass's __init__ method with the x and y arguments. This ensures that the x and y attributes are properly initialized before the z attribute is added."
   ]
  },
  {
   "cell_type": "markdown",
   "id": "762742c5",
   "metadata": {},
   "source": [
    "# 4. How can you augment, instead of completely replacing, an inherited method?"
   ]
  },
  {
   "cell_type": "markdown",
   "id": "dcb1bc1d",
   "metadata": {},
   "source": [
    "In Python, you can augment an inherited method in a subclass by using method overriding and calling the superclass's version of the method within the subclass's version of the method.\n",
    "\n",
    "To do this, you first define the method in the subclass with the same name as the inherited method in the superclass. Within the subclass's method, you can then call the superclass's version of the method using the super() function, and then modify the result as necessary. Here is an example:"
   ]
  },
  {
   "cell_type": "code",
   "execution_count": 2,
   "id": "45a2f766",
   "metadata": {},
   "outputs": [
    {
     "name": "stdout",
     "output_type": "stream",
     "text": [
      "MyBaseClass method\n",
      "MyDerivedClass method\n"
     ]
    }
   ],
   "source": [
    "class MyBaseClass:\n",
    "    def my_method(self):\n",
    "        print(\"MyBaseClass method\")\n",
    "\n",
    "class MyDerivedClass(MyBaseClass):\n",
    "    def my_method(self):\n",
    "        super().my_method()  # call MyBaseClass's method\n",
    "        print(\"MyDerivedClass method\")\n",
    "\n",
    "obj = MyDerivedClass()\n",
    "obj.my_method()  # Output: \"MyBaseClass method\" followed by \"MyDerivedClass method\"\n"
   ]
  },
  {
   "cell_type": "markdown",
   "id": "4ee25489",
   "metadata": {},
   "source": [
    "In this example, MyDerivedClass is derived from MyBaseClass, and overrides its my_method() method. The super().my_method() call within MyDerivedClass's version of my_method() invokes the my_method() method of MyBaseClass, and then the subclass adds its own functionality to the method by printing \"MyDerivedClass method\".\n",
    "\n",
    "This way, the subclass's method augments the inherited method, instead of completely replacing it. The original behavior of the inherited method is preserved, while additional functionality is added by the subclass's version of the method."
   ]
  },
  {
   "cell_type": "markdown",
   "id": "6c731d59",
   "metadata": {},
   "source": [
    "# 5. How is the local scope of a class different from that of a function?"
   ]
  },
  {
   "cell_type": "markdown",
   "id": "0bcf3b9e",
   "metadata": {},
   "source": [
    "In Python, the local scope of a class is different from that of a function in several ways:\n",
    "\n",
    "1.Accessible variables: In a function, variables declared within the function are only accessible within the function's scope. In a class, variables declared within the class are accessible throughout the class, including within any of its methods.\n",
    "\n",
    "2.Lifetime: Variables declared within a function are destroyed once the function returns. In a class, variables can exist throughout the lifetime of the object, and can be accessed by any method of the object.\n",
    "\n",
    "3.Self-referential: In a class, the self parameter refers to the current instance of the class, and can be used to access instance variables and methods. In a function, there is no equivalent to self, and variables can only be accessed by name within the function's scope.\n",
    "\n",
    "4.Inheritance: In a class, child classes inherit the attributes and methods of their parent classes. This means that child classes can access and modify attributes and methods defined in their parent classes. In a function, there is no inheritance or subclassing.\n",
    "\n",
    "5.Name clashes: In a function, if a local variable has the same name as a global variable, the local variable takes precedence within the function's scope. In a class, if an instance variable has the same name as a class variable, the instance variable takes precedence within the instance's scope.\n",
    "\n",
    "In summary, the local scope of a class is more complex and has a wider scope than that of a function, since it includes access to the instance variables, methods, and inheritance.\n"
   ]
  },
  {
   "cell_type": "markdown",
   "id": "5a6a10ea",
   "metadata": {},
   "source": []
  },
  {
   "cell_type": "code",
   "execution_count": null,
   "id": "0a6222f8",
   "metadata": {},
   "outputs": [],
   "source": []
  },
  {
   "cell_type": "code",
   "execution_count": null,
   "id": "867f6ff2",
   "metadata": {},
   "outputs": [],
   "source": []
  },
  {
   "cell_type": "code",
   "execution_count": null,
   "id": "fe274ec3",
   "metadata": {},
   "outputs": [],
   "source": []
  },
  {
   "cell_type": "code",
   "execution_count": null,
   "id": "40ee8ee2",
   "metadata": {},
   "outputs": [],
   "source": []
  },
  {
   "cell_type": "code",
   "execution_count": null,
   "id": "6a2ff2e6",
   "metadata": {},
   "outputs": [],
   "source": []
  },
  {
   "cell_type": "code",
   "execution_count": null,
   "id": "f95947d8",
   "metadata": {},
   "outputs": [],
   "source": []
  },
  {
   "cell_type": "code",
   "execution_count": null,
   "id": "1fca8333",
   "metadata": {},
   "outputs": [],
   "source": []
  },
  {
   "cell_type": "code",
   "execution_count": null,
   "id": "7d77bde6",
   "metadata": {},
   "outputs": [],
   "source": []
  },
  {
   "cell_type": "code",
   "execution_count": null,
   "id": "398ad5b9",
   "metadata": {},
   "outputs": [],
   "source": []
  }
 ],
 "metadata": {
  "kernelspec": {
   "display_name": "Python 3 (ipykernel)",
   "language": "python",
   "name": "python3"
  },
  "language_info": {
   "codemirror_mode": {
    "name": "ipython",
    "version": 3
   },
   "file_extension": ".py",
   "mimetype": "text/x-python",
   "name": "python",
   "nbconvert_exporter": "python",
   "pygments_lexer": "ipython3",
   "version": "3.9.7"
  }
 },
 "nbformat": 4,
 "nbformat_minor": 5
}
