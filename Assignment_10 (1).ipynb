{
 "cells": [
  {
   "cell_type": "markdown",
   "id": "00bbbcb4",
   "metadata": {},
   "source": [
    "# Q1. What is the difference between __getattr__ and __getattribute__?"
   ]
  },
  {
   "cell_type": "markdown",
   "id": "79685c12",
   "metadata": {},
   "source": [
    "\n",
    "   In Python, __getattr__ and __getattribute__ are two special methods that are called when an attribute is accessed on an object. However, there is a key difference between these two methods:\n",
    "\n",
    "\n",
    "*   __getattr__(self, name) is called when an attribute is not found in the usual places (i.e., in the object's dictionary, in the class hierarchy, or in the instance's __dict__). It takes a single argument, name, which is the name of the attribute being accessed. If __getattr__ is defined for a class, it is called whenever an attribute is not found by the usual means.\n",
    "\n",
    "*  __getattribute__(self, name) is called every time an attribute is accessed on an object, regardless of whether the attribute exists or not. It takes a single argument, name, which is the name of the attribute being accessed. If __getattribute__ is defined for a class, it is always called when an attribute is accessed.\n",
    "\n",
    " *  The key difference between __getattr__ and __getattribute__ is that __getattr__ is only called when an attribute is not found by the usual means, whereas __getattribute__ is always called when an attribute is accessed. This means that __getattr__ can be used to define default behavior for attributes that do not exist, while __getattribute__ can be used to override the default behavior for all attributes.\n",
    "\n",
    "*  It's worth noting that __getattribute__ is more powerful than __getattr__, but also more dangerous, because it can cause an infinite recursion if not used carefully. Therefore, it's usually recommended to use __getattr__ instead of __getattribute__ unless you have a specific need for the latter."
   ]
  },
  {
   "cell_type": "markdown",
   "id": "1dcae1a7",
   "metadata": {},
   "source": [
    "# Q2. What is the difference between properties and descriptors?"
   ]
  },
  {
   "cell_type": "markdown",
   "id": "45152a4b",
   "metadata": {},
   "source": [
    "* In Python, properties and descriptors are two mechanisms for controlling access to object attributes. Here are the key differences between the two:\n",
    "\n",
    "\n",
    " *  ===>> A property is a special kind of attribute that is accessed like a regular attribute but is actually the result of a method call. It allows you to define custom behavior when getting or setting an attribute. Properties are defined using the @property decorator in Python. \n",
    "   \n",
    "\n",
    " *  ===>> A descriptor is a more general mechanism for controlling attribute access. It allows you to define custom behavior for getting, setting, and deleting attributes, and can be used for more complex attribute access patterns. Descriptors are defined by implementing the __get__, __set__, and/or __delete__ methods.\n",
    "   \n",
    "\n",
    "  *    The main difference between properties and descriptors is that properties are a simpler mechanism for defining custom behavior for getting and setting an attribute, while descriptors are a more powerful and flexible mechanism that can be used for more complex attribute access patterns. In general, properties are appropriate for simple cases where you just need to define custom behavior for getting or setting an attribute, while descriptors are more appropriate for more complex cases where you need more control over attribute access."
   ]
  },
  {
   "cell_type": "markdown",
   "id": "7ae6de1a",
   "metadata": {},
   "source": [
    "# Q3. What are the key differences in functionality between __getattr__ and __getattribute__, as well as properties and descriptors?"
   ]
  },
  {
   "cell_type": "markdown",
   "id": "d28b7f56",
   "metadata": {},
   "source": [
    "* The key differences between __getattr__ and __getattribute__, as well as properties and descriptors, can be summarized as follows:\n",
    "\n",
    " *   ==> __getattr__ and __getattribute__: Both of these methods are used to customize attribute access on an object. However, __getattr__ is only called when an attribute is not found in the usual places, while __getattribute__ is called every time an attribute is accessed. This means that __getattr__ can be used to define default behavior for attributes that don't exist, while __getattribute__ can be used to override the default behavior for all attributes. However, because __getattribute__ is more powerful and can lead to infinite recursion if not used carefully, it is generally recommended to use __getattr__ instead of __getattribute__ whenever possible.\n",
    "    \n",
    "    \n",
    "\n",
    "   *   ===>  Properties and descriptors: Both properties and descriptors are used to customize attribute access on an object, but they work in slightly different ways. Properties are a simpler mechanism for defining custom behavior for getting and setting an attribute, while descriptors are a more powerful and flexible mechanism that can be used for more complex attribute access patterns. Properties are defined using the @property decorator and are accessed like regular attributes, but are actually the result of a method call. Descriptors, on the other hand, are defined by implementing the __get__, __set__, and/or __delete__ methods and are typically used to define custom behavior for accessing attributes on a class, rather than an instance.\n",
    "\n",
    " *  In summary, __getattr__ and properties are simpler mechanisms for customizing attribute access on an object, while __getattribute__ and descriptors are more powerful and flexible mechanisms that can be used for more complex cases."
   ]
  },
  {
   "cell_type": "code",
   "execution_count": null,
   "id": "f19c914f",
   "metadata": {},
   "outputs": [],
   "source": []
  },
  {
   "cell_type": "code",
   "execution_count": null,
   "id": "70cb1a24",
   "metadata": {},
   "outputs": [],
   "source": []
  },
  {
   "cell_type": "code",
   "execution_count": null,
   "id": "4c2bd41d",
   "metadata": {},
   "outputs": [],
   "source": []
  },
  {
   "cell_type": "code",
   "execution_count": null,
   "id": "2917a58a",
   "metadata": {},
   "outputs": [],
   "source": []
  },
  {
   "cell_type": "code",
   "execution_count": null,
   "id": "1d30f817",
   "metadata": {},
   "outputs": [],
   "source": []
  },
  {
   "cell_type": "code",
   "execution_count": null,
   "id": "a025259c",
   "metadata": {},
   "outputs": [],
   "source": []
  },
  {
   "cell_type": "code",
   "execution_count": null,
   "id": "968b9e09",
   "metadata": {},
   "outputs": [],
   "source": []
  },
  {
   "cell_type": "code",
   "execution_count": null,
   "id": "026519d2",
   "metadata": {},
   "outputs": [],
   "source": []
  },
  {
   "cell_type": "code",
   "execution_count": null,
   "id": "e41b2364",
   "metadata": {},
   "outputs": [],
   "source": []
  },
  {
   "cell_type": "code",
   "execution_count": null,
   "id": "0bec6365",
   "metadata": {},
   "outputs": [],
   "source": []
  },
  {
   "cell_type": "code",
   "execution_count": null,
   "id": "c2049b8e",
   "metadata": {},
   "outputs": [],
   "source": []
  },
  {
   "cell_type": "code",
   "execution_count": null,
   "id": "8e511347",
   "metadata": {},
   "outputs": [],
   "source": []
  },
  {
   "cell_type": "code",
   "execution_count": null,
   "id": "6c580ac0",
   "metadata": {},
   "outputs": [],
   "source": []
  },
  {
   "cell_type": "code",
   "execution_count": null,
   "id": "ec08a4b4",
   "metadata": {},
   "outputs": [],
   "source": []
  },
  {
   "cell_type": "code",
   "execution_count": null,
   "id": "e55efad6",
   "metadata": {},
   "outputs": [],
   "source": []
  },
  {
   "cell_type": "code",
   "execution_count": null,
   "id": "6f853f0b",
   "metadata": {},
   "outputs": [],
   "source": []
  },
  {
   "cell_type": "code",
   "execution_count": null,
   "id": "6e06a87a",
   "metadata": {},
   "outputs": [],
   "source": []
  },
  {
   "cell_type": "code",
   "execution_count": null,
   "id": "d54fcdf2",
   "metadata": {},
   "outputs": [],
   "source": []
  },
  {
   "cell_type": "code",
   "execution_count": null,
   "id": "ebdacca9",
   "metadata": {},
   "outputs": [],
   "source": []
  },
  {
   "cell_type": "code",
   "execution_count": null,
   "id": "15f6d00e",
   "metadata": {},
   "outputs": [],
   "source": []
  },
  {
   "cell_type": "code",
   "execution_count": null,
   "id": "cf7a5910",
   "metadata": {},
   "outputs": [],
   "source": []
  },
  {
   "cell_type": "code",
   "execution_count": null,
   "id": "9fcc8947",
   "metadata": {},
   "outputs": [],
   "source": []
  },
  {
   "cell_type": "code",
   "execution_count": null,
   "id": "23f644f3",
   "metadata": {},
   "outputs": [],
   "source": []
  },
  {
   "cell_type": "code",
   "execution_count": null,
   "id": "690562be",
   "metadata": {},
   "outputs": [],
   "source": []
  }
 ],
 "metadata": {
  "kernelspec": {
   "display_name": "Python 3 (ipykernel)",
   "language": "python",
   "name": "python3"
  },
  "language_info": {
   "codemirror_mode": {
    "name": "ipython",
    "version": 3
   },
   "file_extension": ".py",
   "mimetype": "text/x-python",
   "name": "python",
   "nbconvert_exporter": "python",
   "pygments_lexer": "ipython3",
   "version": "3.9.7"
  }
 },
 "nbformat": 4,
 "nbformat_minor": 5
}
