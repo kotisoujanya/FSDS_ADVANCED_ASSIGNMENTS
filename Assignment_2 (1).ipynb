{
 "cells": [
  {
   "cell_type": "markdown",
   "id": "c25934ec",
   "metadata": {},
   "source": [
    "# Q1. What is the relationship between classes and modules?"
   ]
  },
  {
   "cell_type": "markdown",
   "id": "882baeec",
   "metadata": {},
   "source": [
    "Modules are collections of methods and constants. They cannot generate instances. Classes may generate\n",
    "   instances (objects), and have per-instance state (instance variables)."
   ]
  },
  {
   "cell_type": "code",
   "execution_count": 1,
   "id": "7a4ed7b7",
   "metadata": {},
   "outputs": [
    {
     "name": "stdout",
     "output_type": "stream",
     "text": [
      "addition of 20 and 30 is 50\n"
     ]
    }
   ],
   "source": [
    "#example\n",
    "import math \n",
    "math.sqrt(55)  #here sqrt() is the function defined in math module\n",
    "\n",
    "#=====================================================================================\n",
    "\n",
    "class A: \n",
    "    def display(self,a,b):\n",
    "        print(f\"addition of {a} and {b} is\",a+b)\n",
    "a=A()\n",
    "a.display(20,30)"
   ]
  },
  {
   "cell_type": "markdown",
   "id": "dce2afc2",
   "metadata": {},
   "source": [
    "# Q2. How do you make instances and classes?"
   ]
  },
  {
   "cell_type": "code",
   "execution_count": 2,
   "id": "a5c9e6b1",
   "metadata": {},
   "outputs": [
    {
     "name": "stdout",
     "output_type": "stream",
     "text": [
      "created instance and class\n"
     ]
    }
   ],
   "source": [
    "class A:  #================> class created\n",
    "    def __init__(self):\n",
    "        print(\"created instance and class\")\n",
    "a=A()   # ================> instance created"
   ]
  },
  {
   "cell_type": "markdown",
   "id": "03c28f30",
   "metadata": {},
   "source": [
    "# Q3. Where and how should be class attributes created?"
   ]
  },
  {
   "cell_type": "markdown",
   "id": "7341abc5",
   "metadata": {},
   "source": [
    "Class attributes belong to the class itself they will be shared by all the instances. Such attributes are\n",
    "     defined in the class body parts usually at the top"
   ]
  },
  {
   "cell_type": "code",
   "execution_count": 3,
   "id": "0ef74cd4",
   "metadata": {},
   "outputs": [
    {
     "name": "stdout",
     "output_type": "stream",
     "text": [
      "1\n",
      "2\n",
      "2\n"
     ]
    }
   ],
   "source": [
    "#example\n",
    "class sampleclass:\n",
    "    count = 0     # class attribute \n",
    "    def increase(self):\n",
    "        sampleclass.count += 1\n",
    "s1 = sampleclass()\n",
    "s1.increase()        \n",
    "print(s1.count)  \n",
    "# Calling increase on one more\n",
    "# object\n",
    "s2 = sampleclass()\n",
    "s2.increase()\n",
    "print(s2.count)  \n",
    "print(sampleclass.count)"
   ]
  },
  {
   "cell_type": "markdown",
   "id": "3a236c73",
   "metadata": {},
   "source": [
    "# Q4. Where and how are instance attributes created?"
   ]
  },
  {
   "cell_type": "markdown",
   "id": "5cf47158",
   "metadata": {},
   "source": [
    " A variable(attribute) that is defined in a method  or constructor with self parameter is called as an instance\n",
    "    variable,\n",
    "    Instance variable can be accessed in a method or constructor by using self.\n",
    "    \n",
    "    Instance variable can be accessed in a method or constructor by using object or object reference\n",
    "    \n",
    "    Instance variable can be accessed outside the class by using an object or object reference.\n",
    "    \n",
    "    Instance variable cann't be accessed outside the class by using self because self is a local variable.\n",
    "    \n",
    "    Separate copy of instance variable exist for every object.\n",
    "    \n",
    "    Use instance variable if the value is different for objects."
   ]
  },
  {
   "cell_type": "code",
   "execution_count": 4,
   "id": "63474c92",
   "metadata": {},
   "outputs": [
    {
     "name": "stdout",
     "output_type": "stream",
     "text": [
      "1 souji 50\n",
      "2 laxmi 60\n"
     ]
    }
   ],
   "source": [
    "#example\n",
    "class student:\n",
    "    def __init__(self,roll_no,name,marks):\n",
    "        self.roll_no=roll_no\n",
    "        self.name=name\n",
    "        self.marks=marks\n",
    "    def display(self):\n",
    "        print(self.roll_no,self.name,self.marks)\n",
    "a1=student(1,\"souji\",50)\n",
    "a1.display()\n",
    "a2=student(2,'laxmi',60)\n",
    "a2.display()"
   ]
  },
  {
   "cell_type": "markdown",
   "id": "43fb29b1",
   "metadata": {},
   "source": [
    "# Q5. What does the term &quot;self&quot; in a Python class mean?"
   ]
  },
  {
   "cell_type": "markdown",
   "id": "615f6e73",
   "metadata": {},
   "source": [
    " The self parameter is a reference to the current instance of the class, and is used to access variables that belongs to the class."
   ]
  },
  {
   "cell_type": "markdown",
   "id": "3f349e45",
   "metadata": {},
   "source": [
    "# Q6. How does a Python class handle operator overloading?"
   ]
  },
  {
   "cell_type": "markdown",
   "id": "8fe35523",
   "metadata": {},
   "source": [
    "The operator overloading in Python means provide extended meaning beyond their predefined operational meaning. Such as, we use the \"+\" operator for adding two integers as well as joining two strings or merging two lists. We can achieve this as the \"+\" operator is overloaded by the \"int\" class and \"str\" class."
   ]
  },
  {
   "cell_type": "markdown",
   "id": "33fc51af",
   "metadata": {},
   "source": [
    "# Q7. When do you consider allowing operator overloading of your classes?"
   ]
  },
  {
   "cell_type": "markdown",
   "id": "83817aed",
   "metadata": {},
   "source": [
    "This feature allows to overload operator to work on object's data."
   ]
  },
  {
   "cell_type": "markdown",
   "id": "dc4c3684",
   "metadata": {},
   "source": [
    "# Q8. What is the most popular form of operator overloading?"
   ]
  },
  {
   "cell_type": "markdown",
   "id": "289ce869",
   "metadata": {},
   "source": [
    "Operator Overloading means giving extended meaning beyond their predefined operational meaning. \n",
    "   For example operator + is used to add two integers as well as join two strings and merge two lists.\n",
    "   It is achievable because ‘+’ operator is overloaded by int class and str class. You might have noticed\n",
    "   that the same built-in operator or function shows different behavior for objects of different classes,\n",
    "   this is called Operator Overloading. "
   ]
  },
  {
   "cell_type": "markdown",
   "id": "78335208",
   "metadata": {},
   "source": [
    "# Q9. What are the two most important concepts to grasp in order to comprehend Python OOP code?"
   ]
  },
  {
   "cell_type": "markdown",
   "id": "2a3a08b3",
   "metadata": {},
   "source": [
    "we will elaborate on two key concepts of OOP which are inheritance and polymorphism. Both inheritance and\n",
    "   polymorphism are key ingredients for designing robust, flexible, and easy-to-maintain software."
   ]
  },
  {
   "cell_type": "code",
   "execution_count": null,
   "id": "d6eef0a2",
   "metadata": {},
   "outputs": [],
   "source": []
  },
  {
   "cell_type": "code",
   "execution_count": null,
   "id": "e38ac17a",
   "metadata": {},
   "outputs": [],
   "source": []
  },
  {
   "cell_type": "code",
   "execution_count": null,
   "id": "0f3062da",
   "metadata": {},
   "outputs": [],
   "source": []
  },
  {
   "cell_type": "code",
   "execution_count": null,
   "id": "94e05348",
   "metadata": {},
   "outputs": [],
   "source": []
  },
  {
   "cell_type": "code",
   "execution_count": null,
   "id": "7330e85c",
   "metadata": {},
   "outputs": [],
   "source": []
  },
  {
   "cell_type": "code",
   "execution_count": null,
   "id": "33340b2d",
   "metadata": {},
   "outputs": [],
   "source": []
  },
  {
   "cell_type": "code",
   "execution_count": null,
   "id": "bfa0d667",
   "metadata": {},
   "outputs": [],
   "source": []
  },
  {
   "cell_type": "code",
   "execution_count": null,
   "id": "a210a29f",
   "metadata": {},
   "outputs": [],
   "source": []
  },
  {
   "cell_type": "code",
   "execution_count": null,
   "id": "2ded5592",
   "metadata": {},
   "outputs": [],
   "source": []
  },
  {
   "cell_type": "code",
   "execution_count": null,
   "id": "2d4e26cb",
   "metadata": {},
   "outputs": [],
   "source": []
  }
 ],
 "metadata": {
  "kernelspec": {
   "display_name": "Python 3 (ipykernel)",
   "language": "python",
   "name": "python3"
  },
  "language_info": {
   "codemirror_mode": {
    "name": "ipython",
    "version": 3
   },
   "file_extension": ".py",
   "mimetype": "text/x-python",
   "name": "python",
   "nbconvert_exporter": "python",
   "pygments_lexer": "ipython3",
   "version": "3.9.7"
  }
 },
 "nbformat": 4,
 "nbformat_minor": 5
}
