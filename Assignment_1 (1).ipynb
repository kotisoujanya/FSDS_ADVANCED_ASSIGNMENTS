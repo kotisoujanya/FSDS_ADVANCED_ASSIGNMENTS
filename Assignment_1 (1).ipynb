{
 "cells": [
  {
   "cell_type": "markdown",
   "id": "00ff989f",
   "metadata": {},
   "source": [
    "# Q1. What is the purpose of Python&#39;s OOP?"
   ]
  },
  {
   "cell_type": "markdown",
   "id": "de09ebbd",
   "metadata": {},
   "source": [
    "In Python, object-oriented Programming (OOPs) is a programming paradigm that uses objects and classes\n",
    "    in programming. It aims to implement real-world entities like inheritance, polymorphisms, encapsulation,\n",
    "    etc. in the programming."
   ]
  },
  {
   "cell_type": "markdown",
   "id": "cb987966",
   "metadata": {},
   "source": [
    "# Q2. Where does an inheritance search look for an attribute?"
   ]
  },
  {
   "cell_type": "markdown",
   "id": "9be0872c",
   "metadata": {},
   "source": [
    "An inheritance search looks for an attribute first in the instance object, then in the class the instance\n",
    "   was created from, then in all higher superclasses, progressing from left to right (by default). The search \n",
    "   stops at the first place the attribute is found."
   ]
  },
  {
   "cell_type": "markdown",
   "id": "c32edde4",
   "metadata": {},
   "source": [
    "# Q3. How do you distinguish between a class object and an instance object?"
   ]
  },
  {
   "cell_type": "markdown",
   "id": "6d1403eb",
   "metadata": {},
   "source": [
    "A class is a template for creating objects in a program, whereas the object is an instance of a class. A class is\n",
    "  a logical entity, while an object is a physical entity. A class does not allocate memory space; on the other hand,\n",
    "  an object allocates memory space."
   ]
  },
  {
   "cell_type": "markdown",
   "id": "6bb70f8a",
   "metadata": {},
   "source": [
    "# Q4. What makes the first argument in a class’s method function special?"
   ]
  },
  {
   "cell_type": "markdown",
   "id": "e7a9b779",
   "metadata": {},
   "source": [
    " This is the reason the first parameter of a function in class must be the object itself. Writing this parameter as \n",
    " self is merely a convention. It is not a keyword and has no special meaning in Python."
   ]
  },
  {
   "cell_type": "markdown",
   "id": "ab55501e",
   "metadata": {},
   "source": [
    "# Q5. What is the purpose of the __init__ method?"
   ]
  },
  {
   "cell_type": "raw",
   "id": "49c333de",
   "metadata": {},
   "source": [
    "  __init__ method is a special method and also knon as constructor,\n",
    "   constructor is called automatically whenever an object is created,This method is called when an object\n",
    "   is created from a class and it allows the class to initialize the attributes of the class."
   ]
  },
  {
   "cell_type": "code",
   "execution_count": 1,
   "id": "3afad328",
   "metadata": {},
   "outputs": [
    {
     "name": "stdout",
     "output_type": "stream",
     "text": [
      "constructor\n"
     ]
    }
   ],
   "source": [
    "#example\n",
    "class A:\n",
    "    def __init__(self):\n",
    "        print(\"constructor\")\n",
    "a=A()  # when ever object is created automatically constructor called\n"
   ]
  },
  {
   "cell_type": "code",
   "execution_count": 2,
   "id": "f184743e",
   "metadata": {},
   "outputs": [
    {
     "name": "stdout",
     "output_type": "stream",
     "text": [
      "3\n"
     ]
    }
   ],
   "source": [
    "class A:\n",
    "    def __init__(self,a,b):\n",
    "        print(a+b)\n",
    "b=A(1,2)   #initialzing the attributes of the class"
   ]
  },
  {
   "cell_type": "markdown",
   "id": "137e88e4",
   "metadata": {},
   "source": [
    "# Q6. What is the process for creating a class instance?"
   ]
  },
  {
   "cell_type": "raw",
   "id": "6950c93f",
   "metadata": {},
   "source": [
    "Class instance ------> An object is an instance of a class\n",
    "\n",
    "     For creating the class instance(object ),you call the class using class name and pass in whatever\n",
    "     arguments its __init__ method accepts."
   ]
  },
  {
   "cell_type": "code",
   "execution_count": 3,
   "id": "c894764c",
   "metadata": {},
   "outputs": [
    {
     "name": "stdout",
     "output_type": "stream",
     "text": [
      "created class instance-->object\n",
      "arguments passing by class instance (constructor) 2 3\n"
     ]
    },
    {
     "data": {
      "text/plain": [
       "5"
      ]
     },
     "execution_count": 3,
     "metadata": {},
     "output_type": "execute_result"
    }
   ],
   "source": [
    "#example\n",
    "class A:\n",
    "    def __init__(self,a,b):   #when ever you created class instance(object) a=A(arugments) automatically constructor called\n",
    "        self.a=a\n",
    "        self.b=b\n",
    "        print(\"created class instance-->object\")\n",
    "        print(\"arguments passing by class instance (constructor)\",a,b)\n",
    "    def add(self):\n",
    "        return self.a+self.b\n",
    "a=A(2,3) #--------------> created the class instance\n",
    "a.add()"
   ]
  },
  {
   "cell_type": "markdown",
   "id": "cb8392cf",
   "metadata": {},
   "source": [
    "# Q7. What is the process for creating a class?"
   ]
  },
  {
   "cell_type": "markdown",
   "id": "e9482afd",
   "metadata": {},
   "source": [
    "In Python, a class can be created by using the keyword class, followed by the class name."
   ]
  },
  {
   "cell_type": "code",
   "execution_count": 5,
   "id": "fb977980",
   "metadata": {},
   "outputs": [],
   "source": [
    "class classname:\n",
    "    pass"
   ]
  },
  {
   "cell_type": "markdown",
   "id": "6efa9d3e",
   "metadata": {},
   "source": [
    "# Q8. How would you define the superclasses of a class?"
   ]
  },
  {
   "cell_type": "markdown",
   "id": "e54d0ae9",
   "metadata": {},
   "source": [
    " A superclass is the class from which many subclasses can be created. The subclasses inherit the characteristics\n",
    "    of a superclass. The superclass is also known as the parent class or base class."
   ]
  },
  {
   "cell_type": "code",
   "execution_count": 4,
   "id": "2b519307",
   "metadata": {},
   "outputs": [
    {
     "name": "stdout",
     "output_type": "stream",
     "text": [
      "class A-----> Super class (or) parent class (or) base class\n",
      "class B -----> subclass (or) child class\n",
      "class c -----> subclass (or) derived class\n"
     ]
    }
   ],
   "source": [
    "#example\n",
    "class A:\n",
    "    print(\"class A-----> Super class (or) parent class (or) base class\")\n",
    "class B(A):\n",
    "    print(\"class B -----> subclass (or) child class\")\n",
    "class C(A):\n",
    "    print(\"class c -----> subclass (or) derived class\")\n",
    "a=A()\n"
   ]
  },
  {
   "cell_type": "code",
   "execution_count": null,
   "id": "788d90ac",
   "metadata": {},
   "outputs": [],
   "source": []
  }
 ],
 "metadata": {
  "kernelspec": {
   "display_name": "Python 3 (ipykernel)",
   "language": "python",
   "name": "python3"
  },
  "language_info": {
   "codemirror_mode": {
    "name": "ipython",
    "version": 3
   },
   "file_extension": ".py",
   "mimetype": "text/x-python",
   "name": "python",
   "nbconvert_exporter": "python",
   "pygments_lexer": "ipython3",
   "version": "3.9.7"
  }
 },
 "nbformat": 4,
 "nbformat_minor": 5
}
